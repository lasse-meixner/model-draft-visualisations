{
 "cells": [
  {
   "cell_type": "markdown",
   "id": "bored-chair",
   "metadata": {},
   "source": [
    "## Imports"
   ]
  },
  {
   "cell_type": "code",
   "execution_count": 1,
   "id": "explicit-monitor",
   "metadata": {},
   "outputs": [],
   "source": [
    "import plotly.express as px\n",
    "from jupyter_dash import JupyterDash\n",
    "import dash_core_components as dcc\n",
    "import dash_html_components as html\n",
    "import dash\n",
    "from dash.dependencies import Input, Output\n",
    "\n",
    "import numpy as np\n",
    "from sympy import *\n",
    "import pandas as pd"
   ]
  },
  {
   "cell_type": "markdown",
   "id": "tested-highland",
   "metadata": {},
   "source": [
    "## Settings variables and solving for Pi's"
   ]
  },
  {
   "cell_type": "code",
   "execution_count": 2,
   "id": "removed-victor",
   "metadata": {},
   "outputs": [],
   "source": [
    "a,m,si,E,L2,L1,L = symbols(\"W_a,W_m,s_i,E_m,L_{II},L_I,L\")\n",
    "pi_eq = symbols(pretty(pi)+\"_eq\")\n",
    "pi_m = symbols(pretty(pi)+\"_M\")\n",
    "s_eq = symbols(\"s\\u0302\")"
   ]
  },
  {
   "cell_type": "code",
   "execution_count": 3,
   "id": "loving-racing",
   "metadata": {},
   "outputs": [
    {
     "data": {
      "text/latex": [
       "$\\displaystyle \\frac{W_{a}}{W_{a} s_{i} + W_{m} \\left(1 - s_{i}\\right)}$"
      ],
      "text/plain": [
       "W_a/(W_a*s_i + W_m*(1 - s_i))"
      ]
     },
     "execution_count": 3,
     "metadata": {},
     "output_type": "execute_result"
    }
   ],
   "source": [
    "Pi_eq = a/((a*si)+(1-si)*m)\n",
    "Pi_eq"
   ]
  },
  {
   "cell_type": "code",
   "execution_count": 4,
   "id": "greenhouse-turkish",
   "metadata": {},
   "outputs": [
    {
     "data": {
      "text/latex": [
       "$\\displaystyle \\frac{E_{m}}{L_{I} + L_{II} s_{i}}$"
      ],
      "text/plain": [
       "E_m/(L_I + L_{II}*s_i)"
      ]
     },
     "execution_count": 4,
     "metadata": {},
     "output_type": "execute_result"
    }
   ],
   "source": [
    "Pi_M = E/(L1 + si*L2)\n",
    "Pi_M"
   ]
  },
  {
   "cell_type": "code",
   "execution_count": 5,
   "id": "grave-lemon",
   "metadata": {},
   "outputs": [],
   "source": [
    "intersection = Eq(Pi_eq,Pi_M)"
   ]
  },
  {
   "cell_type": "code",
   "execution_count": 6,
   "id": "tribal-cooking",
   "metadata": {},
   "outputs": [
    {
     "data": {
      "text/latex": [
       "$\\displaystyle ŝ = \\frac{E_{m} W_{m} - L_{I} W_{a}}{- E_{m} W_{a} + E_{m} W_{m} + L_{II} W_{a}}$"
      ],
      "text/plain": [
       "Eq(ŝ, (E_m*W_m - L_I*W_a)/(-E_m*W_a + E_m*W_m + L_{II}*W_a))"
      ]
     },
     "execution_count": 6,
     "metadata": {},
     "output_type": "execute_result"
    }
   ],
   "source": [
    "Eq(s_eq,solve(intersection,si)[0])"
   ]
  },
  {
   "cell_type": "markdown",
   "id": "current-bahamas",
   "metadata": {},
   "source": [
    "#### Solving for numerical intersection for graph"
   ]
  },
  {
   "cell_type": "code",
   "execution_count": 7,
   "id": "elementary-township",
   "metadata": {},
   "outputs": [
    {
     "data": {
      "text/latex": [
       "$\\displaystyle \\frac{22}{37}$"
      ],
      "text/plain": [
       "22/37"
      ]
     },
     "execution_count": 7,
     "metadata": {},
     "output_type": "execute_result"
    }
   ],
   "source": [
    "s_eq = solve(intersection,si)[0]\n",
    "param_dict = {\"W_m\":12,\n",
    "              \"W_a\":2,\n",
    "              \"E_m\":50,\n",
    "              \"L_I\":80,\n",
    "              \"L_{II}\":120}\n",
    "s_eq.subs(param_dict)"
   ]
  },
  {
   "cell_type": "code",
   "execution_count": 8,
   "id": "injured-extreme",
   "metadata": {},
   "outputs": [
    {
     "data": {
      "text/latex": [
       "$\\displaystyle 0.330357142857143$"
      ],
      "text/plain": [
       "0.330357142857143"
      ]
     },
     "execution_count": 8,
     "metadata": {},
     "output_type": "execute_result"
    }
   ],
   "source": [
    "Pi_M.subs({\"E_m\":50,\n",
    "           \"L_I\":80,\n",
    "           \"L_{II}\":120,\n",
    "           \"s_i\":22/37})"
   ]
  },
  {
   "cell_type": "code",
   "execution_count": 9,
   "id": "advisory-acting",
   "metadata": {},
   "outputs": [],
   "source": [
    "s_eq_func = lambdify([m,a,E,L,L1],s_eq.subs(L2,(L-L1)),\"numpy\")"
   ]
  },
  {
   "cell_type": "markdown",
   "id": "awful-refrigerator",
   "metadata": {},
   "source": [
    "#### Dashing UP"
   ]
  },
  {
   "cell_type": "code",
   "execution_count": 10,
   "id": "binding-oxide",
   "metadata": {},
   "outputs": [],
   "source": [
    "Pi_eq_func = lambdify([a,m,si],Pi_eq,\"numpy\")\n",
    "Pi_M_func = lambdify([E,L1,L2,si],Pi_M,\"numpy\")"
   ]
  },
  {
   "cell_type": "code",
   "execution_count": 11,
   "id": "expressed-forest",
   "metadata": {},
   "outputs": [],
   "source": [
    "app = JupyterDash(__name__)\n",
    "\n",
    "app.layout = html.Div([\n",
    "    html.H1(\"Plotting Pi's\"),\n",
    "    dcc.Graph(id='graph'),\n",
    "    html.Div([\n",
    "        html.Div([\"Wm\",\n",
    "        dcc.Input(\n",
    "            id='m_input',\n",
    "            value=8, type=\"number\")\n",
    "            ]),\n",
    "        html.Br(),\n",
    "        html.Div([\"Wa:\",\n",
    "            dcc.Input(\n",
    "                id=\"a_input\",\n",
    "                value=4, type=\"number\")\n",
    "            ]),\n",
    "        html.Br(),\n",
    "        html.Div([\"E:\",\n",
    "            dcc.Input(\n",
    "                id=\"E_input\",\n",
    "                value=20, type=\"number\")\n",
    "            ]),\n",
    "        html.Br(),\n",
    "        html.Div([\"L:\",\n",
    "            dcc.Input(\n",
    "                id=\"L_input\",\n",
    "                value=100, type=\"number\")\n",
    "            ]),\n",
    "        html.Br(),\n",
    "        html.Div([\"L1:\",\n",
    "            dcc.Input(\n",
    "                id=\"L1_input\",\n",
    "                value=30, type=\"number\")\n",
    "            ])])\n",
    "],style={\"width\": \"60%\",\"padding-left\":\"20%\", \"padding-right\":\"20%\"})\n",
    "    \n",
    "\n",
    "@app.callback(\n",
    "    Output(\"graph\",\"figure\"),\n",
    "    [Input(\"m_input\",\"value\"),\n",
    "    Input(\"a_input\",\"value\"),\n",
    "    Input(\"E_input\",\"value\"),\n",
    "    Input(\"L_input\",\"value\"),\n",
    "    Input(\"L1_input\",\"value\")])\n",
    "def update_graph(m,a,E,L,L1):\n",
    "    s = np.linspace(0,1,1000)\n",
    "    y1 = Pi_eq_func(a,m,s)\n",
    "    y2 = Pi_M_func(E,L,L1,s)\n",
    "    df = pd.DataFrame({\"s_i\":s,\"Pi_eq\":y1,\"Pi_M\":y2})\n",
    "    fig = px.line(df,y=[\"Pi_eq\",\"Pi_M\"],x=\"s_i\")\n",
    "    return fig\n",
    "\n"
   ]
  },
  {
   "cell_type": "code",
   "execution_count": 12,
   "id": "persistent-arbor",
   "metadata": {
    "scrolled": false
   },
   "outputs": [],
   "source": [
    "def start_app(port=8060):\n",
    "    if __name__ == '__main__':\n",
    "        app.run_server(debug=True,port=port)"
   ]
  },
  {
   "cell_type": "code",
   "execution_count": 13,
   "id": "broadband-workplace",
   "metadata": {},
   "outputs": [],
   "source": [
    "def stop_app(port=8060):\n",
    "    app._terminate_server_for_port(\"localhost\",port)"
   ]
  },
  {
   "cell_type": "markdown",
   "id": "hollow-fellow",
   "metadata": {},
   "source": [
    "## Solving for $L_I$"
   ]
  },
  {
   "cell_type": "markdown",
   "id": "alien-panel",
   "metadata": {},
   "source": [
    "#### Uniform distribution"
   ]
  },
  {
   "cell_type": "markdown",
   "id": "marked-chemistry",
   "metadata": {},
   "source": [
    "We know from the Uniform ~ U(0,1) that\n",
    "\n",
    "CDF: $F(s_i < t) = t$\n",
    "\n",
    "Hence, from \n",
    "$$F(s_i < \\bar{s}) = \\bar{s}$$\n",
    "we get the following (quadratic!) Equation:"
   ]
  },
  {
   "cell_type": "code",
   "execution_count": 14,
   "id": "molecular-session",
   "metadata": {},
   "outputs": [
    {
     "data": {
      "text/latex": [
       "$\\displaystyle \\frac{L \\left(- E_{m} W_{m} + L_{I} W_{a}\\right)}{E_{m} \\left(W_{a} - W_{m}\\right) - W_{a} \\left(L - L_{I}\\right)} = L_{I}$"
      ],
      "text/plain": [
       "Eq(L*(-E_m*W_m + L_I*W_a)/(E_m*(W_a - W_m) - W_a*(L - L_I)), L_I)"
      ]
     },
     "execution_count": 14,
     "metadata": {},
     "output_type": "execute_result"
    }
   ],
   "source": [
    "endog = Eq(((a*L1-E*m)/(E*(a-m)-a*(L-L1)))*L,L1)\n",
    "endog"
   ]
  },
  {
   "cell_type": "code",
   "execution_count": 15,
   "id": "quarterly-continuity",
   "metadata": {},
   "outputs": [
    {
     "data": {
      "text/plain": [
       "2"
      ]
     },
     "execution_count": 15,
     "metadata": {},
     "output_type": "execute_result"
    }
   ],
   "source": [
    "len(solve(endog,L1))"
   ]
  },
  {
   "cell_type": "code",
   "execution_count": 16,
   "id": "exempt-winter",
   "metadata": {},
   "outputs": [
    {
     "data": {
      "text/latex": [
       "$\\displaystyle \\frac{- E_{m} W_{a} + E_{m} W_{m} + 2 L W_{a} - \\sqrt{E_{m}^{2} W_{a}^{2} - 2 E_{m}^{2} W_{a} W_{m} + E_{m}^{2} W_{m}^{2} - 4 E_{m} L W_{a}^{2} + 4 L^{2} W_{a}^{2}}}{2 W_{a}}$"
      ],
      "text/plain": [
       "(-E_m*W_a + E_m*W_m + 2*L*W_a - sqrt(E_m**2*W_a**2 - 2*E_m**2*W_a*W_m + E_m**2*W_m**2 - 4*E_m*L*W_a**2 + 4*L**2*W_a**2))/(2*W_a)"
      ]
     },
     "execution_count": 16,
     "metadata": {},
     "output_type": "execute_result"
    }
   ],
   "source": [
    "solve(endog,L1)[0]"
   ]
  },
  {
   "cell_type": "code",
   "execution_count": 17,
   "id": "infectious-declaration",
   "metadata": {},
   "outputs": [
    {
     "data": {
      "text/latex": [
       "$\\displaystyle \\frac{- E_{m} W_{a} + E_{m} W_{m} + 2 L W_{a} + \\sqrt{E_{m}^{2} W_{a}^{2} - 2 E_{m}^{2} W_{a} W_{m} + E_{m}^{2} W_{m}^{2} - 4 E_{m} L W_{a}^{2} + 4 L^{2} W_{a}^{2}}}{2 W_{a}}$"
      ],
      "text/plain": [
       "(-E_m*W_a + E_m*W_m + 2*L*W_a + sqrt(E_m**2*W_a**2 - 2*E_m**2*W_a*W_m + E_m**2*W_m**2 - 4*E_m*L*W_a**2 + 4*L**2*W_a**2))/(2*W_a)"
      ]
     },
     "execution_count": 17,
     "metadata": {},
     "output_type": "execute_result"
    }
   ],
   "source": [
    "solve(endog,L1)[1]"
   ]
  },
  {
   "cell_type": "code",
   "execution_count": 18,
   "id": "backed-probe",
   "metadata": {},
   "outputs": [],
   "source": [
    "L1_sol0 = lambdify([m,a,E,L],solve(endog,L1)[0],\"numpy\")"
   ]
  },
  {
   "cell_type": "code",
   "execution_count": 19,
   "id": "solved-handle",
   "metadata": {},
   "outputs": [],
   "source": [
    "L1_sol1 = lambdify([m,a,E,L],solve(endog,L1)[1],\"numpy\")"
   ]
  },
  {
   "cell_type": "code",
   "execution_count": 20,
   "id": "removed-coach",
   "metadata": {},
   "outputs": [
    {
     "name": "stdout",
     "output_type": "stream",
     "text": [
      "62.02041028867288\n",
      "257.9795897113271\n"
     ]
    }
   ],
   "source": [
    "print(L1_sol0(8,2,40,100))\n",
    "print(L1_sol1(8,2,40,100))"
   ]
  },
  {
   "cell_type": "code",
   "execution_count": 21,
   "id": "fifth-roommate",
   "metadata": {},
   "outputs": [
    {
     "name": "stdout",
     "output_type": "stream",
     "text": [
      "346.88711258507254\n",
      "1153.1128874149274\n"
     ]
    }
   ],
   "source": [
    "print(L1_sol0(8,3,300,500))\n",
    "print(L1_sol1(8,3,300,500))"
   ]
  },
  {
   "cell_type": "markdown",
   "id": "motivated-participant",
   "metadata": {},
   "source": [
    "If any, its L1_sol0."
   ]
  },
  {
   "cell_type": "code",
   "execution_count": 22,
   "id": "impaired-plumbing",
   "metadata": {},
   "outputs": [
    {
     "data": {
      "text/latex": [
       "$\\displaystyle L^{*}_{1} = \\frac{- E_{m} W_{a} + E_{m} W_{m} + 2 L W_{a} - \\sqrt{E_{m}^{2} W_{a}^{2} - 2 E_{m}^{2} W_{a} W_{m} + E_{m}^{2} W_{m}^{2} - 4 E_{m} L W_{a}^{2} + 4 L^{2} W_{a}^{2}}}{2 W_{a}}$"
      ],
      "text/plain": [
       "Eq(L1^*, (-E_m*W_a + E_m*W_m + 2*L*W_a - sqrt(E_m**2*W_a**2 - 2*E_m**2*W_a*W_m + E_m**2*W_m**2 - 4*E_m*L*W_a**2 + 4*L**2*W_a**2))/(2*W_a))"
      ]
     },
     "execution_count": 22,
     "metadata": {},
     "output_type": "execute_result"
    }
   ],
   "source": [
    "L1_sol = symbols(\"L1^*\")\n",
    "Eq(L1_sol,simplify(solve(endog,L1)[0]))"
   ]
  },
  {
   "cell_type": "code",
   "execution_count": 23,
   "id": "indoor-maintenance",
   "metadata": {},
   "outputs": [],
   "source": [
    "L1_sol = solve(endog,L1)[0]"
   ]
  },
  {
   "cell_type": "markdown",
   "id": "pretty-baptist",
   "metadata": {},
   "source": [
    "## Solve for $L_m$ and U"
   ]
  },
  {
   "cell_type": "markdown",
   "id": "quiet-tournament",
   "metadata": {},
   "source": [
    "The major question in solving for the ex-post allocations is the \"true\" search parameter, or rather how it is related to the distribution of beliefs. Here, the entire weight is on choosing a normatively appealing relation. The most simple one, would be, of course, that of rational expectations. Instead of for the individual, this can at most hold for the average: $$\\bar{s} = \\frac{\\sum_{i}{s_i}}{L}$$"
   ]
  },
  {
   "cell_type": "markdown",
   "id": "closing-catering",
   "metadata": {},
   "source": [
    "Solving for $$L_m = L_I + L_{II}\\bar{s}\\pi = L_I + (L-L_{I})\\bar{s}\\pi = L_I(1-\\pi\\bar{s})+ L\\pi\\bar{s}$$"
   ]
  },
  {
   "cell_type": "code",
   "execution_count": 24,
   "id": "continuing-wrapping",
   "metadata": {},
   "outputs": [
    {
     "data": {
      "text/latex": [
       "$\\displaystyle \\frac{E_{m}}{L_{I} + L_{II} s_{i}}$"
      ],
      "text/plain": [
       "E_m/(L_I + L_{II}*s_i)"
      ]
     },
     "execution_count": 24,
     "metadata": {},
     "output_type": "execute_result"
    }
   ],
   "source": [
    "Pi_M"
   ]
  },
  {
   "cell_type": "code",
   "execution_count": 25,
   "id": "designing-strap",
   "metadata": {},
   "outputs": [
    {
     "data": {
      "text/latex": [
       "$\\displaystyle \\frac{E_{m}}{L \\bar{s} + L_{I} \\left(1 - \\bar{s}\\right)}$"
      ],
      "text/plain": [
       "E_m/(L*sbar + L_I*(1 - sbar))"
      ]
     },
     "execution_count": 25,
     "metadata": {},
     "output_type": "execute_result"
    }
   ],
   "source": [
    "L_m, U, s_t = symbols(\"L_m,U,sbar\")\n",
    "# Modifying Pi_m to represent the TRUE market hiring rate, not the believed one\n",
    "Pi_m = E/(L1*(1-s_t)+L*s_t)\n",
    "Pi_m"
   ]
  },
  {
   "cell_type": "code",
   "execution_count": 26,
   "id": "psychological-acceptance",
   "metadata": {},
   "outputs": [
    {
     "data": {
      "text/latex": [
       "$\\displaystyle \\frac{E_{m} L \\bar{s}}{L \\bar{s} + L_{I} \\left(1 - \\bar{s}\\right)} + L_{I} \\left(- \\frac{E_{m} \\bar{s}}{L \\bar{s} + L_{I} \\left(1 - \\bar{s}\\right)} + 1\\right)$"
      ],
      "text/plain": [
       "E_m*L*sbar/(L*sbar + L_I*(1 - sbar)) + L_I*(-E_m*sbar/(L*sbar + L_I*(1 - sbar)) + 1)"
      ]
     },
     "execution_count": 26,
     "metadata": {},
     "output_type": "execute_result"
    }
   ],
   "source": [
    "L_m = L1*(1-Pi_m*s_t) + L*Pi_m*s_t\n",
    "L_m"
   ]
  },
  {
   "cell_type": "code",
   "execution_count": 27,
   "id": "israeli-worcester",
   "metadata": {},
   "outputs": [
    {
     "data": {
      "text/latex": [
       "$\\displaystyle \\frac{E_{m} L \\bar{s}}{L \\bar{s} + \\frac{\\left(1 - \\bar{s}\\right) \\left(- E_{m} W_{a} + E_{m} W_{m} + 2 L W_{a} - \\sqrt{E_{m}^{2} W_{a}^{2} - 2 E_{m}^{2} W_{a} W_{m} + E_{m}^{2} W_{m}^{2} - 4 E_{m} L W_{a}^{2} + 4 L^{2} W_{a}^{2}}\\right)}{2 W_{a}}} + \\frac{\\left(- \\frac{E_{m} \\bar{s}}{L \\bar{s} + \\frac{\\left(1 - \\bar{s}\\right) \\left(- E_{m} W_{a} + E_{m} W_{m} + 2 L W_{a} - \\sqrt{E_{m}^{2} W_{a}^{2} - 2 E_{m}^{2} W_{a} W_{m} + E_{m}^{2} W_{m}^{2} - 4 E_{m} L W_{a}^{2} + 4 L^{2} W_{a}^{2}}\\right)}{2 W_{a}}} + 1\\right) \\left(- E_{m} W_{a} + E_{m} W_{m} + 2 L W_{a} - \\sqrt{E_{m}^{2} W_{a}^{2} - 2 E_{m}^{2} W_{a} W_{m} + E_{m}^{2} W_{m}^{2} - 4 E_{m} L W_{a}^{2} + 4 L^{2} W_{a}^{2}}\\right)}{2 W_{a}}$"
      ],
      "text/plain": [
       "E_m*L*sbar/(L*sbar + (1 - sbar)*(-E_m*W_a + E_m*W_m + 2*L*W_a - sqrt(E_m**2*W_a**2 - 2*E_m**2*W_a*W_m + E_m**2*W_m**2 - 4*E_m*L*W_a**2 + 4*L**2*W_a**2))/(2*W_a)) + (-E_m*sbar/(L*sbar + (1 - sbar)*(-E_m*W_a + E_m*W_m + 2*L*W_a - sqrt(E_m**2*W_a**2 - 2*E_m**2*W_a*W_m + E_m**2*W_m**2 - 4*E_m*L*W_a**2 + 4*L**2*W_a**2))/(2*W_a)) + 1)*(-E_m*W_a + E_m*W_m + 2*L*W_a - sqrt(E_m**2*W_a**2 - 2*E_m**2*W_a*W_m + E_m**2*W_m**2 - 4*E_m*L*W_a**2 + 4*L**2*W_a**2))/(2*W_a)"
      ]
     },
     "execution_count": 27,
     "metadata": {},
     "output_type": "execute_result"
    }
   ],
   "source": [
    "L_m_sol = L_m.subs(L1,L1_sol)\n",
    "L_m_sol"
   ]
  },
  {
   "cell_type": "code",
   "execution_count": 28,
   "id": "proprietary-dodge",
   "metadata": {},
   "outputs": [],
   "source": [
    "L_m_sol_func = lambdify([m,a,E,L,s_t],L_m_sol,\"numpy\")"
   ]
  },
  {
   "cell_type": "code",
   "execution_count": 29,
   "id": "moderate-captain",
   "metadata": {
    "scrolled": true
   },
   "outputs": [
    {
     "data": {
      "text/latex": [
       "$\\displaystyle \\frac{E_{m} L \\bar{s}}{L \\bar{s} + L_{I} \\left(1 - \\bar{s}\\right)} - E_{m} + L_{I} \\left(- \\frac{E_{m} \\bar{s}}{L \\bar{s} + L_{I} \\left(1 - \\bar{s}\\right)} + 1\\right)$"
      ],
      "text/plain": [
       "E_m*L*sbar/(L*sbar + L_I*(1 - sbar)) - E_m + L_I*(-E_m*sbar/(L*sbar + L_I*(1 - sbar)) + 1)"
      ]
     },
     "execution_count": 29,
     "metadata": {},
     "output_type": "execute_result"
    }
   ],
   "source": [
    "U = L_m - E\n",
    "U"
   ]
  },
  {
   "cell_type": "code",
   "execution_count": 30,
   "id": "behavioral-harvard",
   "metadata": {},
   "outputs": [
    {
     "data": {
      "text/latex": [
       "$\\displaystyle \\frac{E_{m} L \\bar{s}}{L \\bar{s} + \\frac{\\left(1 - \\bar{s}\\right) \\left(- E_{m} W_{a} + E_{m} W_{m} + 2 L W_{a} - \\sqrt{E_{m}^{2} W_{a}^{2} - 2 E_{m}^{2} W_{a} W_{m} + E_{m}^{2} W_{m}^{2} - 4 E_{m} L W_{a}^{2} + 4 L^{2} W_{a}^{2}}\\right)}{2 W_{a}}} - E_{m} + \\frac{\\left(- \\frac{E_{m} \\bar{s}}{L \\bar{s} + \\frac{\\left(1 - \\bar{s}\\right) \\left(- E_{m} W_{a} + E_{m} W_{m} + 2 L W_{a} - \\sqrt{E_{m}^{2} W_{a}^{2} - 2 E_{m}^{2} W_{a} W_{m} + E_{m}^{2} W_{m}^{2} - 4 E_{m} L W_{a}^{2} + 4 L^{2} W_{a}^{2}}\\right)}{2 W_{a}}} + 1\\right) \\left(- E_{m} W_{a} + E_{m} W_{m} + 2 L W_{a} - \\sqrt{E_{m}^{2} W_{a}^{2} - 2 E_{m}^{2} W_{a} W_{m} + E_{m}^{2} W_{m}^{2} - 4 E_{m} L W_{a}^{2} + 4 L^{2} W_{a}^{2}}\\right)}{2 W_{a}}$"
      ],
      "text/plain": [
       "E_m*L*sbar/(L*sbar + (1 - sbar)*(-E_m*W_a + E_m*W_m + 2*L*W_a - sqrt(E_m**2*W_a**2 - 2*E_m**2*W_a*W_m + E_m**2*W_m**2 - 4*E_m*L*W_a**2 + 4*L**2*W_a**2))/(2*W_a)) - E_m + (-E_m*sbar/(L*sbar + (1 - sbar)*(-E_m*W_a + E_m*W_m + 2*L*W_a - sqrt(E_m**2*W_a**2 - 2*E_m**2*W_a*W_m + E_m**2*W_m**2 - 4*E_m*L*W_a**2 + 4*L**2*W_a**2))/(2*W_a)) + 1)*(-E_m*W_a + E_m*W_m + 2*L*W_a - sqrt(E_m**2*W_a**2 - 2*E_m**2*W_a*W_m + E_m**2*W_m**2 - 4*E_m*L*W_a**2 + 4*L**2*W_a**2))/(2*W_a)"
      ]
     },
     "execution_count": 30,
     "metadata": {},
     "output_type": "execute_result"
    }
   ],
   "source": [
    "U_sol = U.subs(L1,L1_sol)\n",
    "U_sol"
   ]
  },
  {
   "cell_type": "code",
   "execution_count": 31,
   "id": "demanding-terror",
   "metadata": {},
   "outputs": [
    {
     "data": {
      "text/latex": [
       "$\\displaystyle \\frac{\\frac{E_{m} L \\bar{s}}{L \\bar{s} + \\frac{\\left(1 - \\bar{s}\\right) \\left(- E_{m} W_{a} + E_{m} W_{m} + 2 L W_{a} - \\sqrt{E_{m}^{2} W_{a}^{2} - 2 E_{m}^{2} W_{a} W_{m} + E_{m}^{2} W_{m}^{2} - 4 E_{m} L W_{a}^{2} + 4 L^{2} W_{a}^{2}}\\right)}{2 W_{a}}} - E_{m} + \\frac{\\left(- \\frac{E_{m} \\bar{s}}{L \\bar{s} + \\frac{\\left(1 - \\bar{s}\\right) \\left(- E_{m} W_{a} + E_{m} W_{m} + 2 L W_{a} - \\sqrt{E_{m}^{2} W_{a}^{2} - 2 E_{m}^{2} W_{a} W_{m} + E_{m}^{2} W_{m}^{2} - 4 E_{m} L W_{a}^{2} + 4 L^{2} W_{a}^{2}}\\right)}{2 W_{a}}} + 1\\right) \\left(- E_{m} W_{a} + E_{m} W_{m} + 2 L W_{a} - \\sqrt{E_{m}^{2} W_{a}^{2} - 2 E_{m}^{2} W_{a} W_{m} + E_{m}^{2} W_{m}^{2} - 4 E_{m} L W_{a}^{2} + 4 L^{2} W_{a}^{2}}\\right)}{2 W_{a}}}{\\frac{E_{m} L \\bar{s}}{L \\bar{s} + \\frac{\\left(1 - \\bar{s}\\right) \\left(- E_{m} W_{a} + E_{m} W_{m} + 2 L W_{a} - \\sqrt{E_{m}^{2} W_{a}^{2} - 2 E_{m}^{2} W_{a} W_{m} + E_{m}^{2} W_{m}^{2} - 4 E_{m} L W_{a}^{2} + 4 L^{2} W_{a}^{2}}\\right)}{2 W_{a}}} + \\frac{\\left(- \\frac{E_{m} \\bar{s}}{L \\bar{s} + \\frac{\\left(1 - \\bar{s}\\right) \\left(- E_{m} W_{a} + E_{m} W_{m} + 2 L W_{a} - \\sqrt{E_{m}^{2} W_{a}^{2} - 2 E_{m}^{2} W_{a} W_{m} + E_{m}^{2} W_{m}^{2} - 4 E_{m} L W_{a}^{2} + 4 L^{2} W_{a}^{2}}\\right)}{2 W_{a}}} + 1\\right) \\left(- E_{m} W_{a} + E_{m} W_{m} + 2 L W_{a} - \\sqrt{E_{m}^{2} W_{a}^{2} - 2 E_{m}^{2} W_{a} W_{m} + E_{m}^{2} W_{m}^{2} - 4 E_{m} L W_{a}^{2} + 4 L^{2} W_{a}^{2}}\\right)}{2 W_{a}}}$"
      ],
      "text/plain": [
       "(E_m*L*sbar/(L*sbar + (1 - sbar)*(-E_m*W_a + E_m*W_m + 2*L*W_a - sqrt(E_m**2*W_a**2 - 2*E_m**2*W_a*W_m + E_m**2*W_m**2 - 4*E_m*L*W_a**2 + 4*L**2*W_a**2))/(2*W_a)) - E_m + (-E_m*sbar/(L*sbar + (1 - sbar)*(-E_m*W_a + E_m*W_m + 2*L*W_a - sqrt(E_m**2*W_a**2 - 2*E_m**2*W_a*W_m + E_m**2*W_m**2 - 4*E_m*L*W_a**2 + 4*L**2*W_a**2))/(2*W_a)) + 1)*(-E_m*W_a + E_m*W_m + 2*L*W_a - sqrt(E_m**2*W_a**2 - 2*E_m**2*W_a*W_m + E_m**2*W_m**2 - 4*E_m*L*W_a**2 + 4*L**2*W_a**2))/(2*W_a))/(E_m*L*sbar/(L*sbar + (1 - sbar)*(-E_m*W_a + E_m*W_m + 2*L*W_a - sqrt(E_m**2*W_a**2 - 2*E_m**2*W_a*W_m + E_m**2*W_m**2 - 4*E_m*L*W_a**2 + 4*L**2*W_a**2))/(2*W_a)) + (-E_m*sbar/(L*sbar + (1 - sbar)*(-E_m*W_a + E_m*W_m + 2*L*W_a - sqrt(E_m**2*W_a**2 - 2*E_m**2*W_a*W_m + E_m**2*W_m**2 - 4*E_m*L*W_a**2 + 4*L**2*W_a**2))/(2*W_a)) + 1)*(-E_m*W_a + E_m*W_m + 2*L*W_a - sqrt(E_m**2*W_a**2 - 2*E_m**2*W_a*W_m + E_m**2*W_m**2 - 4*E_m*L*W_a**2 + 4*L**2*W_a**2))/(2*W_a))"
      ]
     },
     "execution_count": 31,
     "metadata": {},
     "output_type": "execute_result"
    }
   ],
   "source": [
    "Unemployment_rate = U_sol/L_m_sol\n",
    "Unemployment_rate"
   ]
  },
  {
   "cell_type": "code",
   "execution_count": 32,
   "id": "alpha-surname",
   "metadata": {},
   "outputs": [
    {
     "data": {
      "text/latex": [
       "$\\displaystyle - \\frac{E_{m}}{\\frac{E_{m} L \\bar{s}}{L \\bar{s} + \\frac{\\left(1 - \\bar{s}\\right) \\left(- E_{m} W_{a} + E_{m} W_{m} + 2 L W_{a} - \\sqrt{E_{m}^{2} W_{a}^{2} - 2 E_{m}^{2} W_{a} W_{m} + E_{m}^{2} W_{m}^{2} - 4 E_{m} L W_{a}^{2} + 4 L^{2} W_{a}^{2}}\\right)}{2 W_{a}}} + \\frac{\\left(- \\frac{E_{m} \\bar{s}}{L \\bar{s} + \\frac{\\left(1 - \\bar{s}\\right) \\left(- E_{m} W_{a} + E_{m} W_{m} + 2 L W_{a} - \\sqrt{E_{m}^{2} W_{a}^{2} - 2 E_{m}^{2} W_{a} W_{m} + E_{m}^{2} W_{m}^{2} - 4 E_{m} L W_{a}^{2} + 4 L^{2} W_{a}^{2}}\\right)}{2 W_{a}}} + 1\\right) \\left(- E_{m} W_{a} + E_{m} W_{m} + 2 L W_{a} - \\sqrt{E_{m}^{2} W_{a}^{2} - 2 E_{m}^{2} W_{a} W_{m} + E_{m}^{2} W_{m}^{2} - 4 E_{m} L W_{a}^{2} + 4 L^{2} W_{a}^{2}}\\right)}{2 W_{a}}}$"
      ],
      "text/plain": [
       "-E_m/(E_m*L*sbar/(L*sbar + (1 - sbar)*(-E_m*W_a + E_m*W_m + 2*L*W_a - sqrt(E_m**2*W_a**2 - 2*E_m**2*W_a*W_m + E_m**2*W_m**2 - 4*E_m*L*W_a**2 + 4*L**2*W_a**2))/(2*W_a)) + (-E_m*sbar/(L*sbar + (1 - sbar)*(-E_m*W_a + E_m*W_m + 2*L*W_a - sqrt(E_m**2*W_a**2 - 2*E_m**2*W_a*W_m + E_m**2*W_m**2 - 4*E_m*L*W_a**2 + 4*L**2*W_a**2))/(2*W_a)) + 1)*(-E_m*W_a + E_m*W_m + 2*L*W_a - sqrt(E_m**2*W_a**2 - 2*E_m**2*W_a*W_m + E_m**2*W_m**2 - 4*E_m*L*W_a**2 + 4*L**2*W_a**2))/(2*W_a))"
      ]
     },
     "execution_count": 32,
     "metadata": {},
     "output_type": "execute_result"
    }
   ],
   "source": [
    "# Alternatively\n",
    "UR2 = -E/L_m_sol\n",
    "UR2"
   ]
  },
  {
   "cell_type": "code",
   "execution_count": 33,
   "id": "animated-textbook",
   "metadata": {},
   "outputs": [],
   "source": [
    "unemployment_rate_func = lambdify([m,a,E,L,s_t],Unemployment_rate,\"numpy\")"
   ]
  },
  {
   "cell_type": "markdown",
   "id": "invalid-package",
   "metadata": {},
   "source": [
    "### Getting the First Best Solutions and they lambdified functions"
   ]
  },
  {
   "cell_type": "code",
   "execution_count": 34,
   "id": "minimal-judgment",
   "metadata": {},
   "outputs": [
    {
     "data": {
      "text/latex": [
       "$\\displaystyle \\frac{E_{m} W_{m}}{W_{a}} + \\frac{L W_{m}}{- W_{m} + \\bar{s} \\left(- W_{a} + W_{m}\\right)} + L$"
      ],
      "text/plain": [
       "E_m*W_m/W_a + L*W_m/(-W_m + sbar*(-W_a + W_m)) + L"
      ]
     },
     "execution_count": 34,
     "metadata": {},
     "output_type": "execute_result"
    }
   ],
   "source": [
    "L_m_FB = L+ E*(m/a) + (m*L)/((m-a)*s_t-m)\n",
    "L_m_FB"
   ]
  },
  {
   "cell_type": "code",
   "execution_count": 35,
   "id": "brown-train",
   "metadata": {},
   "outputs": [],
   "source": [
    "L_m_FB_func = lambdify([m,a,E,L,s_t],L_m_FB,\"numpy\")"
   ]
  },
  {
   "cell_type": "code",
   "execution_count": 36,
   "id": "frank-assignment",
   "metadata": {},
   "outputs": [],
   "source": [
    "UR_FB  = (L_m_FB - E)/L_m_FB\n",
    "UR_FB_func = lambdify([m,a,E,L,s_t],UR_FB,\"numpy\")"
   ]
  },
  {
   "cell_type": "markdown",
   "id": "unlimited-found",
   "metadata": {},
   "source": [
    "### Plotting my solutions against the FB"
   ]
  },
  {
   "cell_type": "code",
   "execution_count": 37,
   "id": "aggressive-syndication",
   "metadata": {},
   "outputs": [],
   "source": [
    "import dash_bootstrap_components as dbc\n",
    "\n",
    "app = JupyterDash(__name__,external_stylesheets=[dbc.themes.GRID])\n",
    "\n",
    "#Todo put graphs beside each other!\n",
    "\n",
    "\n",
    "app.layout = html.Div([\n",
    "    html.Div([\n",
    "        dbc.Row([\n",
    "            dbc.Col(dcc.Graph(id='graph'),align=\"start\"),\n",
    "            dbc.Col(dcc.Graph(id=\"graph2\"),align=\"center\"),\n",
    "            dbc.Col(dcc.Graph(id=\"graph3\"),align=\"end\")\n",
    "                ])\n",
    "            ]),\n",
    "    \n",
    "    html.Div([\n",
    "        dbc.Row([\n",
    "            dbc.Col(\n",
    "                html.Div([\"Wm\",\n",
    "                    dcc.Input(\n",
    "                        id='m_input',\n",
    "                        value=12, type=\"number\")\n",
    "                        ])\n",
    "                    ),\n",
    "            dbc.Col(\n",
    "                html.Div([\"Wa:\",\n",
    "                    dcc.Input(\n",
    "                        id=\"a_input\",\n",
    "                        value=4, type=\"number\")\n",
    "                        ])\n",
    "                    ),\n",
    "            dbc.Col(\n",
    "                html.Div([\"E:\",\n",
    "                    dcc.Input(\n",
    "                        id=\"E_input\",\n",
    "                        value=50, type=\"number\")\n",
    "                        ])\n",
    "                    )\n",
    "                ]),\n",
    "        \n",
    "        dbc.Row([\n",
    "            dbc.Col(\n",
    "                html.Div([\"L:\",\n",
    "                    dcc.Input(\n",
    "                        id=\"L_input\",\n",
    "                        value=100, type=\"number\")\n",
    "                        ])\n",
    "                    ),\n",
    "            dbc.Col(\n",
    "                html.Div([\"S_true:\",\n",
    "                    dcc.Slider(\n",
    "                        id=\"s_true_input\", min=0, max=1, step=0.1,\n",
    "                        value=0.5)     \n",
    "                        ])\n",
    "                    )\n",
    "                ])\n",
    "            ]),\n",
    "])\n",
    "    \n",
    "\n",
    "@app.callback(\n",
    "    Output(\"graph\",\"figure\"),\n",
    "    [Input(\"m_input\",\"value\"),\n",
    "    Input(\"a_input\",\"value\"),\n",
    "    Input(\"E_input\",\"value\"),\n",
    "    Input(\"L_input\",\"value\")])\n",
    "def update_graph(m,a,E,L):\n",
    "    s = np.linspace(0,1,1000)\n",
    "    L1 = L1_sol0(m,a,E,L)\n",
    "    y1 = Pi_eq_func(a,m,s)\n",
    "    y2 = Pi_M_func(E,L1,L-L1,s)\n",
    "    df = pd.DataFrame({\"s_i\":s,\"Pi_eq\":y1,\"Pi_M\":y2})\n",
    "    fig = px.line(df,y=[\"Pi_eq\",\"Pi_M\"],x=\"s_i\")\n",
    "    fig.add_vline(x=s_eq_func(m,a,E,L,L1))\n",
    "    return fig\n",
    "\n",
    "@app.callback(\n",
    "    Output(\"graph2\",\"figure\"),\n",
    "    [Input(\"m_input\",\"value\"),\n",
    "    Input(\"a_input\",\"value\"),\n",
    "    Input(\"E_input\",\"value\"),\n",
    "    Input(\"L_input\",\"value\"),\n",
    "    Input(\"s_true_input\",\"value\")])\n",
    "def update_ex_post_graph(m,a,E,L,s):\n",
    "    bar = pd.DataFrame({\"Title\":[\"L_I\",\"L_m\",\"L_m_Fields\"], \"Solution\": [L1_sol0(m,a,E,L),L_m_sol_func(m,a,E,L,s),L_m_FB_func(m,a,E,L,s)]})\n",
    "    fig = px.bar(bar,x=\"Title\",y=\"Solution\")\n",
    "    return fig\n",
    "\n",
    "@app.callback(\n",
    "    Output(\"graph3\",\"figure\"),\n",
    "    [Input(\"m_input\",\"value\"),\n",
    "    Input(\"a_input\",\"value\"),\n",
    "    Input(\"E_input\",\"value\"),\n",
    "    Input(\"L_input\",\"value\"),\n",
    "    Input(\"s_true_input\",\"value\")])\n",
    "def update_ex_post_graph(m,a,E,L,s):\n",
    "    bar = pd.DataFrame({\"Title\":[\"Unemployment Rate\",\"Unemployment Rate Fields\"], \"Solution\": [unemployment_rate_func(m,a,E,L,s),UR_FB_func(m,a,E,L,s)]})\n",
    "    fig = px.bar(bar,x=\"Title\",y=\"Solution\")\n",
    "    return fig\n",
    "    \n"
   ]
  },
  {
   "cell_type": "code",
   "execution_count": 38,
   "id": "average-shade",
   "metadata": {},
   "outputs": [
    {
     "name": "stdout",
     "output_type": "stream",
     "text": [
      "Dash app running on http://127.0.0.1:8080/\n"
     ]
    }
   ],
   "source": [
    "start_app(8080)"
   ]
  },
  {
   "cell_type": "code",
   "execution_count": 39,
   "id": "outer-prophet",
   "metadata": {},
   "outputs": [],
   "source": [
    "stop_app(8080)"
   ]
  },
  {
   "cell_type": "markdown",
   "id": "visible-light",
   "metadata": {},
   "source": [
    "From the visualisations one can see that unemployment rates tend to be much lower compared to the solution in Fields. \n",
    "\\begin{itemize}\n",
    "    \\item why is that so mathematically?\n",
    "    \\item Why is that so intuitively?\n",
    "\\end{itemize}    \n"
   ]
  },
  {
   "cell_type": "code",
   "execution_count": 43,
   "id": "married-dimension",
   "metadata": {},
   "outputs": [
    {
     "data": {
      "text/latex": [
       "$\\displaystyle \\frac{E_{m}}{\\frac{E_{m} L \\bar{s}}{L \\bar{s} + \\frac{\\left(\\bar{s} - 1\\right) \\left(E_{m} W_{a} - E_{m} W_{m} - 2 L W_{a} + \\sqrt{E_{m}^{2} W_{a}^{2} - 2 E_{m}^{2} W_{a} W_{m} + E_{m}^{2} W_{m}^{2} - 4 E_{m} L W_{a}^{2} + 4 L^{2} W_{a}^{2}}\\right)}{2 W_{a}}} + \\frac{\\left(\\frac{E_{m} \\bar{s}}{L \\bar{s} + \\frac{\\left(\\bar{s} - 1\\right) \\left(E_{m} W_{a} - E_{m} W_{m} - 2 L W_{a} + \\sqrt{E_{m}^{2} W_{a}^{2} - 2 E_{m}^{2} W_{a} W_{m} + E_{m}^{2} W_{m}^{2} - 4 E_{m} L W_{a}^{2} + 4 L^{2} W_{a}^{2}}\\right)}{2 W_{a}}} - 1\\right) \\left(E_{m} W_{a} - E_{m} W_{m} - 2 L W_{a} + \\sqrt{E_{m}^{2} W_{a}^{2} - 2 E_{m}^{2} W_{a} W_{m} + E_{m}^{2} W_{m}^{2} - 4 E_{m} L W_{a}^{2} + 4 L^{2} W_{a}^{2}}\\right)}{2 W_{a}}} - \\frac{E_{m} - \\frac{E_{m} W_{m}}{W_{a}} + \\frac{L W_{m}}{W_{m} + \\bar{s} \\left(W_{a} - W_{m}\\right)} - L}{\\frac{E_{m} W_{m}}{W_{a}} - \\frac{L W_{m}}{W_{m} + \\bar{s} \\left(W_{a} - W_{m}\\right)} + L}$"
      ],
      "text/plain": [
       "E_m/(E_m*L*sbar/(L*sbar + (sbar - 1)*(E_m*W_a - E_m*W_m - 2*L*W_a + sqrt(E_m**2*W_a**2 - 2*E_m**2*W_a*W_m + E_m**2*W_m**2 - 4*E_m*L*W_a**2 + 4*L**2*W_a**2))/(2*W_a)) + (E_m*sbar/(L*sbar + (sbar - 1)*(E_m*W_a - E_m*W_m - 2*L*W_a + sqrt(E_m**2*W_a**2 - 2*E_m**2*W_a*W_m + E_m**2*W_m**2 - 4*E_m*L*W_a**2 + 4*L**2*W_a**2))/(2*W_a)) - 1)*(E_m*W_a - E_m*W_m - 2*L*W_a + sqrt(E_m**2*W_a**2 - 2*E_m**2*W_a*W_m + E_m**2*W_m**2 - 4*E_m*L*W_a**2 + 4*L**2*W_a**2))/(2*W_a)) - (E_m - E_m*W_m/W_a + L*W_m/(W_m + sbar*(W_a - W_m)) - L)/(E_m*W_m/W_a - L*W_m/(W_m + sbar*(W_a - W_m)) + L)"
      ]
     },
     "execution_count": 43,
     "metadata": {},
     "output_type": "execute_result"
    }
   ],
   "source": [
    "UR_diff = UR_FB - UR2\n",
    "simplify(UR_diff)"
   ]
  },
  {
   "cell_type": "code",
   "execution_count": 45,
   "id": "blank-peter",
   "metadata": {},
   "outputs": [
    {
     "data": {
      "text/latex": [
       "$\\displaystyle \\frac{- E_{m} + \\frac{E_{m} W_{m}}{W_{a}} + \\frac{L W_{m}}{- W_{m} + \\bar{s} \\left(- W_{a} + W_{m}\\right)} + L}{\\frac{E_{m} W_{m}}{W_{a}} + \\frac{L W_{m}}{- W_{m} + \\bar{s} \\left(- W_{a} + W_{m}\\right)} + L} - \\frac{\\frac{E_{m} L \\bar{s}}{L \\bar{s} + L_{I} \\left(1 - \\bar{s}\\right)} - E_{m} + L_{I} \\left(- \\frac{E_{m} \\bar{s}}{L \\bar{s} + L_{I} \\left(1 - \\bar{s}\\right)} + 1\\right)}{\\frac{E_{m} L \\bar{s}}{L \\bar{s} + L_{I} \\left(1 - \\bar{s}\\right)} + L_{I} \\left(- \\frac{E_{m} \\bar{s}}{L \\bar{s} + L_{I} \\left(1 - \\bar{s}\\right)} + 1\\right)}$"
      ],
      "text/plain": [
       "(-E_m + E_m*W_m/W_a + L*W_m/(-W_m + sbar*(-W_a + W_m)) + L)/(E_m*W_m/W_a + L*W_m/(-W_m + sbar*(-W_a + W_m)) + L) - (E_m*L*sbar/(L*sbar + L_I*(1 - sbar)) - E_m + L_I*(-E_m*sbar/(L*sbar + L_I*(1 - sbar)) + 1))/(E_m*L*sbar/(L*sbar + L_I*(1 - sbar)) + L_I*(-E_m*sbar/(L*sbar + L_I*(1 - sbar)) + 1))"
      ]
     },
     "execution_count": 45,
     "metadata": {},
     "output_type": "execute_result"
    }
   ],
   "source": [
    "# With L1\n",
    "UR_diff_pre_sol = UR_FB - (U/L_m)\n",
    "UR_diff_pre_sol"
   ]
  },
  {
   "cell_type": "code",
   "execution_count": null,
   "id": "tribal-charger",
   "metadata": {},
   "outputs": [],
   "source": []
  }
 ],
 "metadata": {
  "kernelspec": {
   "display_name": "Python 3",
   "language": "python",
   "name": "python3"
  },
  "language_info": {
   "codemirror_mode": {
    "name": "ipython",
    "version": 3
   },
   "file_extension": ".py",
   "mimetype": "text/x-python",
   "name": "python",
   "nbconvert_exporter": "python",
   "pygments_lexer": "ipython3",
   "version": "3.7.6"
  },
  "latex_envs": {
   "LaTeX_envs_menu_present": true,
   "autoclose": true,
   "autocomplete": true,
   "bibliofile": "biblio.bib",
   "cite_by": "apalike",
   "current_citInitial": 1,
   "eqLabelWithNumbers": true,
   "eqNumInitial": 1,
   "hotkeys": {
    "equation": "Ctrl-E",
    "itemize": "Ctrl-I"
   },
   "labels_anchors": false,
   "latex_user_defs": false,
   "report_style_numbering": false,
   "user_envs_cfg": false
  }
 },
 "nbformat": 4,
 "nbformat_minor": 5
}
